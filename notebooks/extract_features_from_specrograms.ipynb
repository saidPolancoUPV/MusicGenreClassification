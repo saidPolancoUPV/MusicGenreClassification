{
 "cells": [
  {
   "cell_type": "markdown",
   "metadata": {
    "collapsed": true,
    "pycharm": {
     "name": "#%% md\n"
    }
   },
   "source": [
    "# Extracción de características desde espectogramas\n",
    "\n",
    "Se extraen:\n",
    "\n",
    "  * Mel-frequency cepstral coefficients (MFCC)(20 in number)\n",
    "  * Spectral Centroid,\n",
    "  * Zero Crossing Rate\n",
    "  * Chroma Frequencies\n",
    "  * Spectral Roll-off."
   ]
  },
  {
   "cell_type": "code",
   "execution_count": 19,
   "outputs": [],
   "source": [
    "# Se cargas las liberías necesarias\n",
    "import librosa\n",
    "import numpy as np\n",
    "import pandas as pd\n",
    "import csv\n",
    "import os"
   ],
   "metadata": {
    "collapsed": false,
    "pycharm": {
     "name": "#%%\n"
    }
   }
  },
  {
   "cell_type": "code",
   "execution_count": 20,
   "outputs": [],
   "source": [
    "WORKING_DIR = os.path.abspath(os.path.join(os.getcwd(), os.pardir))\n",
    "DATA_ROOT_DIR = os.path.join(WORKING_DIR, 'data')\n",
    "DATA_MUSIC_DIR = os.path.join(DATA_ROOT_DIR, 'genres_original')"
   ],
   "metadata": {
    "collapsed": false,
    "pycharm": {
     "name": "#%%\n"
    }
   }
  },
  {
   "cell_type": "code",
   "execution_count": 25,
   "outputs": [
    {
     "data": {
      "text/plain": "['filename',\n 'chroma_stft',\n 'rmse',\n 'spectral_centroid',\n 'spectral_bandwidth',\n 'rolloff',\n 'zero_crossing_rate',\n ' mfcc1',\n ' mfcc2',\n ' mfcc3',\n ' mfcc4',\n ' mfcc5',\n ' mfcc6',\n ' mfcc7',\n ' mfcc8',\n ' mfcc9',\n ' mfcc10',\n ' mfcc11',\n ' mfcc12',\n ' mfcc13',\n ' mfcc14',\n ' mfcc15',\n ' mfcc16',\n ' mfcc17',\n ' mfcc18',\n ' mfcc19',\n ' mfcc20',\n 'label']"
     },
     "execution_count": 25,
     "metadata": {},
     "output_type": "execute_result"
    }
   ],
   "source": [
    "headers = ['filename', 'chroma_stft', 'rmse', 'spectral_centroid', 'spectral_bandwidth',\n",
    "           'rolloff', 'zero_crossing_rate'] + [f' mfcc{i}' for i in range(1, 21)] + ['label']\n",
    "headers"
   ],
   "metadata": {
    "collapsed": false,
    "pycharm": {
     "name": "#%%\n"
    }
   }
  },
  {
   "cell_type": "code",
   "execution_count": 22,
   "outputs": [
    {
     "data": {
      "text/plain": "['classical',\n 'country',\n 'disco',\n 'reggae',\n 'metal',\n 'blues',\n 'pop',\n 'jazz',\n 'rock',\n 'hiphop',\n '.gitkeep']"
     },
     "execution_count": 22,
     "metadata": {},
     "output_type": "execute_result"
    }
   ],
   "source": [
    "# Escribiendo datos en archivo CSV\n",
    "data_file_name = 'my_data'\n",
    "file = open(f'{DATA_ROOT_DIR}/{data_file_name}.csv', 'w+', newline='')\n",
    "with file:\n",
    "    writer = csv.writer(file)\n",
    "    writer.writerow(headers)"
   ],
   "metadata": {
    "collapsed": false,
    "pycharm": {
     "name": "#%%\n"
    }
   }
  },
  {
   "cell_type": "code",
   "execution_count": 24,
   "outputs": [
    {
     "data": {
      "text/plain": "['classical',\n 'country',\n 'disco',\n 'reggae',\n 'metal',\n 'blues',\n 'pop',\n 'jazz',\n 'rock',\n 'hiphop']"
     },
     "execution_count": 24,
     "metadata": {},
     "output_type": "execute_result"
    }
   ],
   "source": [
    "# evitamos el archivo .gitkeep (y/o los archivos ocultos)\n",
    "genres = [g for g in os.listdir(f'{DATA_MUSIC_DIR}') if not g.startswith(\".\")]\n",
    "genres"
   ],
   "metadata": {
    "collapsed": false,
    "pycharm": {
     "name": "#%%\n"
    }
   }
  },
  {
   "cell_type": "code",
   "execution_count": null,
   "outputs": [],
   "source": [
    "\n",
    "for genre in genres:\n",
    "    for filename in os.listdir(f'{DATA_MUSIC_DIR}/{genre}'):\n",
    "        songname = f'{DATA_MUSIC_DIR}/{genre}/{filename}'\n",
    "        y, sr = librosa.load(songname, mono=True, duration=30)\n",
    "        chroma_stft = librosa.feature.chroma_stft(y=y, sr=sr)\n",
    "        spec_cent = librosa.feature.spectral_centroid(y=y, sr=sr)\n",
    "        spec_bw = librosa.feature.spectral_bandwidth(y=y, sr=sr)\n",
    "        rolloff = librosa.feature.spectral_rolloff(y=y, sr=sr)\n",
    "        zcr = librosa.feature.zero_crossing_rate(y=y)\n",
    "        mfcc = librosa.feature.mfcc(y=y, sr=sr)\n",
    "        rmse = librosa.feature.rms(y=y)\n",
    "        to_append = f'{filename} {np.mean(chroma_stft)} {np.mean(rmse)} {np.mean(spec_cent)} {np.mean(spec_bw)} ' \\\n",
    "                    f'{np.mean(rolloff)} {np.mean(zcr)}'\n",
    "        for e in mfcc:\n",
    "            to_append += f' {np.mean(e)}'\n",
    "        file = open(f'{DATA_ROOT_DIR}/{data_file_name}.csv', 'a', newline='')\n",
    "        with file:\n",
    "            writer = csv.writer(file)\n",
    "            writer.writerow(to_append.split())"
   ],
   "metadata": {
    "collapsed": false,
    "pycharm": {
     "name": "#%%\n"
    }
   }
  },
  {
   "cell_type": "code",
   "execution_count": null,
   "outputs": [],
   "source": [],
   "metadata": {
    "collapsed": false,
    "pycharm": {
     "name": "#%%\n"
    }
   }
  }
 ],
 "metadata": {
  "kernelspec": {
   "display_name": "Python 3",
   "language": "python",
   "name": "python3"
  },
  "language_info": {
   "codemirror_mode": {
    "name": "ipython",
    "version": 2
   },
   "file_extension": ".py",
   "mimetype": "text/x-python",
   "name": "python",
   "nbconvert_exporter": "python",
   "pygments_lexer": "ipython2",
   "version": "2.7.6"
  }
 },
 "nbformat": 4,
 "nbformat_minor": 0
}